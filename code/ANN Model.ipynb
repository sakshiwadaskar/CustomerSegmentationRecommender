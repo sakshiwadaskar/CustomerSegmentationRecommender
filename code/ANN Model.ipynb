{
 "cells": [
  {
   "cell_type": "markdown",
   "metadata": {},
   "source": [
    "## Modeling"
   ]
  },
  {
   "cell_type": "code",
   "execution_count": 1,
   "metadata": {},
   "outputs": [],
   "source": [
    "# !pip uninstall scikit-learn --yes\n",
    "# !pip uninstall imblearn --yes"
   ]
  },
  {
   "cell_type": "code",
   "execution_count": 2,
   "metadata": {},
   "outputs": [],
   "source": [
    "# !pip install scikit-learn==1.2.2\n",
    "# !pip install imblearn"
   ]
  },
  {
   "cell_type": "code",
   "execution_count": 3,
   "metadata": {},
   "outputs": [],
   "source": [
    "import numpy as np\n",
    "import pandas as pd\n",
    "import matplotlib.pyplot as plt\n",
    "import seaborn as sns\n",
    "import gc\n",
    "pd.options.mode.chained_assignment = None\n",
    "\n",
    "root = './../data/'\n",
    "\n",
    "from sklearn.model_selection import train_test_split, GridSearchCV, cross_val_score\n",
    "from sklearn.metrics import confusion_matrix, accuracy_score, classification_report\n",
    "from sklearn.metrics import roc_auc_score, roc_curve, precision_score, recall_score, f1_score\n",
    "from imblearn.over_sampling import SMOTE"
   ]
  },
  {
   "cell_type": "code",
   "execution_count": 4,
   "metadata": {},
   "outputs": [
    {
     "data": {
      "text/html": [
       "<div>\n",
       "<style scoped>\n",
       "    .dataframe tbody tr th:only-of-type {\n",
       "        vertical-align: middle;\n",
       "    }\n",
       "\n",
       "    .dataframe tbody tr th {\n",
       "        vertical-align: top;\n",
       "    }\n",
       "\n",
       "    .dataframe thead th {\n",
       "        text-align: right;\n",
       "    }\n",
       "</style>\n",
       "<table border=\"1\" class=\"dataframe\">\n",
       "  <thead>\n",
       "    <tr style=\"text-align: right;\">\n",
       "      <th></th>\n",
       "      <th>user_id</th>\n",
       "      <th>product_id</th>\n",
       "      <th>total_product_orders_by_user</th>\n",
       "      <th>total_product_reorders_by_user</th>\n",
       "      <th>user_product_reorder_percentage</th>\n",
       "      <th>avg_add_to_cart_by_user</th>\n",
       "      <th>avg_days_since_last_bought</th>\n",
       "      <th>last_ordered_in</th>\n",
       "      <th>is_reorder_3</th>\n",
       "      <th>is_reorder_2</th>\n",
       "      <th>...</th>\n",
       "      <th>total_reorders_by_user</th>\n",
       "      <th>reorder_propotion_by_user</th>\n",
       "      <th>average_order_size</th>\n",
       "      <th>reorder_in_order</th>\n",
       "      <th>orders_3</th>\n",
       "      <th>orders_2</th>\n",
       "      <th>orders_1</th>\n",
       "      <th>reorder_3</th>\n",
       "      <th>reorder_2</th>\n",
       "      <th>reorder_1</th>\n",
       "    </tr>\n",
       "  </thead>\n",
       "  <tbody>\n",
       "    <tr>\n",
       "      <th>0</th>\n",
       "      <td>1</td>\n",
       "      <td>196</td>\n",
       "      <td>10.0</td>\n",
       "      <td>9.0</td>\n",
       "      <td>0.900000</td>\n",
       "      <td>1.400000</td>\n",
       "      <td>17.600000</td>\n",
       "      <td>10.0</td>\n",
       "      <td>1.0</td>\n",
       "      <td>1.0</td>\n",
       "      <td>...</td>\n",
       "      <td>41</td>\n",
       "      <td>0.694915</td>\n",
       "      <td>5.9</td>\n",
       "      <td>0.705833</td>\n",
       "      <td>6</td>\n",
       "      <td>6</td>\n",
       "      <td>9</td>\n",
       "      <td>0.666667</td>\n",
       "      <td>1.0</td>\n",
       "      <td>0.666667</td>\n",
       "    </tr>\n",
       "    <tr>\n",
       "      <th>1</th>\n",
       "      <td>1</td>\n",
       "      <td>10258</td>\n",
       "      <td>9.0</td>\n",
       "      <td>8.0</td>\n",
       "      <td>0.888889</td>\n",
       "      <td>3.333333</td>\n",
       "      <td>19.555555</td>\n",
       "      <td>10.0</td>\n",
       "      <td>1.0</td>\n",
       "      <td>1.0</td>\n",
       "      <td>...</td>\n",
       "      <td>41</td>\n",
       "      <td>0.694915</td>\n",
       "      <td>5.9</td>\n",
       "      <td>0.705833</td>\n",
       "      <td>6</td>\n",
       "      <td>6</td>\n",
       "      <td>9</td>\n",
       "      <td>0.666667</td>\n",
       "      <td>1.0</td>\n",
       "      <td>0.666667</td>\n",
       "    </tr>\n",
       "    <tr>\n",
       "      <th>2</th>\n",
       "      <td>1</td>\n",
       "      <td>10326</td>\n",
       "      <td>1.0</td>\n",
       "      <td>0.0</td>\n",
       "      <td>0.000000</td>\n",
       "      <td>5.000000</td>\n",
       "      <td>28.000000</td>\n",
       "      <td>5.0</td>\n",
       "      <td>0.0</td>\n",
       "      <td>0.0</td>\n",
       "      <td>...</td>\n",
       "      <td>41</td>\n",
       "      <td>0.694915</td>\n",
       "      <td>5.9</td>\n",
       "      <td>0.705833</td>\n",
       "      <td>6</td>\n",
       "      <td>6</td>\n",
       "      <td>9</td>\n",
       "      <td>0.666667</td>\n",
       "      <td>1.0</td>\n",
       "      <td>0.666667</td>\n",
       "    </tr>\n",
       "    <tr>\n",
       "      <th>3</th>\n",
       "      <td>1</td>\n",
       "      <td>12427</td>\n",
       "      <td>10.0</td>\n",
       "      <td>9.0</td>\n",
       "      <td>0.900000</td>\n",
       "      <td>3.300000</td>\n",
       "      <td>17.600000</td>\n",
       "      <td>10.0</td>\n",
       "      <td>1.0</td>\n",
       "      <td>1.0</td>\n",
       "      <td>...</td>\n",
       "      <td>41</td>\n",
       "      <td>0.694915</td>\n",
       "      <td>5.9</td>\n",
       "      <td>0.705833</td>\n",
       "      <td>6</td>\n",
       "      <td>6</td>\n",
       "      <td>9</td>\n",
       "      <td>0.666667</td>\n",
       "      <td>1.0</td>\n",
       "      <td>0.666667</td>\n",
       "    </tr>\n",
       "    <tr>\n",
       "      <th>4</th>\n",
       "      <td>1</td>\n",
       "      <td>13032</td>\n",
       "      <td>3.0</td>\n",
       "      <td>2.0</td>\n",
       "      <td>0.666667</td>\n",
       "      <td>6.333333</td>\n",
       "      <td>21.666666</td>\n",
       "      <td>10.0</td>\n",
       "      <td>1.0</td>\n",
       "      <td>0.0</td>\n",
       "      <td>...</td>\n",
       "      <td>41</td>\n",
       "      <td>0.694915</td>\n",
       "      <td>5.9</td>\n",
       "      <td>0.705833</td>\n",
       "      <td>6</td>\n",
       "      <td>6</td>\n",
       "      <td>9</td>\n",
       "      <td>0.666667</td>\n",
       "      <td>1.0</td>\n",
       "      <td>0.666667</td>\n",
       "    </tr>\n",
       "  </tbody>\n",
       "</table>\n",
       "<p>5 rows × 69 columns</p>\n",
       "</div>"
      ],
      "text/plain": [
       "   user_id  product_id  total_product_orders_by_user  \\\n",
       "0        1         196                          10.0   \n",
       "1        1       10258                           9.0   \n",
       "2        1       10326                           1.0   \n",
       "3        1       12427                          10.0   \n",
       "4        1       13032                           3.0   \n",
       "\n",
       "   total_product_reorders_by_user  user_product_reorder_percentage  \\\n",
       "0                             9.0                         0.900000   \n",
       "1                             8.0                         0.888889   \n",
       "2                             0.0                         0.000000   \n",
       "3                             9.0                         0.900000   \n",
       "4                             2.0                         0.666667   \n",
       "\n",
       "   avg_add_to_cart_by_user  avg_days_since_last_bought  last_ordered_in  \\\n",
       "0                 1.400000                   17.600000             10.0   \n",
       "1                 3.333333                   19.555555             10.0   \n",
       "2                 5.000000                   28.000000              5.0   \n",
       "3                 3.300000                   17.600000             10.0   \n",
       "4                 6.333333                   21.666666             10.0   \n",
       "\n",
       "   is_reorder_3  is_reorder_2  ...  total_reorders_by_user  \\\n",
       "0           1.0           1.0  ...                      41   \n",
       "1           1.0           1.0  ...                      41   \n",
       "2           0.0           0.0  ...                      41   \n",
       "3           1.0           1.0  ...                      41   \n",
       "4           1.0           0.0  ...                      41   \n",
       "\n",
       "   reorder_propotion_by_user  average_order_size  reorder_in_order  orders_3  \\\n",
       "0                   0.694915                 5.9          0.705833         6   \n",
       "1                   0.694915                 5.9          0.705833         6   \n",
       "2                   0.694915                 5.9          0.705833         6   \n",
       "3                   0.694915                 5.9          0.705833         6   \n",
       "4                   0.694915                 5.9          0.705833         6   \n",
       "\n",
       "   orders_2  orders_1  reorder_3  reorder_2  reorder_1  \n",
       "0         6         9   0.666667        1.0   0.666667  \n",
       "1         6         9   0.666667        1.0   0.666667  \n",
       "2         6         9   0.666667        1.0   0.666667  \n",
       "3         6         9   0.666667        1.0   0.666667  \n",
       "4         6         9   0.666667        1.0   0.666667  \n",
       "\n",
       "[5 rows x 69 columns]"
      ]
     },
     "execution_count": 4,
     "metadata": {},
     "output_type": "execute_result"
    }
   ],
   "source": [
    "df = pd.read_pickle(root + 'Finaldata.pkl')\n",
    "df.head()"
   ]
  },
  {
   "cell_type": "code",
   "execution_count": 5,
   "metadata": {},
   "outputs": [],
   "source": [
    "def reduce_memory(df):\n",
    "    \n",
    "    \"\"\"\n",
    "    This function reduce the dataframe memory usage by converting it's type for easier handling.\n",
    "    \n",
    "    Parameters: Dataframe\n",
    "    Return: Dataframe\n",
    "    \"\"\"\n",
    "    \n",
    "    start_mem_usg = df.memory_usage().sum() / 1024**2 \n",
    "    print(\"Memory usage of properties dataframe is :\",start_mem_usg,\" MB\")\n",
    "    \n",
    "    for col in df.columns:\n",
    "        if df[col].dtypes in [\"int64\", \"int32\", \"int16\"]:\n",
    "            \n",
    "            cmin = df[col].min()\n",
    "            cmax = df[col].max()\n",
    "            \n",
    "            if cmin > np.iinfo(np.int8).min and cmax < np.iinfo(np.int8).max:\n",
    "                df[col] = df[col].astype(np.int8)\n",
    "            \n",
    "            elif cmin > np.iinfo(np.int16).min and cmax < np.iinfo(np.int16).max:\n",
    "                df[col] = df[col].astype(np.int16)\n",
    "            \n",
    "            elif cmin > np.iinfo(np.int32).min and cmax < np.iinfo(np.int32).max:\n",
    "                df[col] = df[col].astype(np.int32)\n",
    "        \n",
    "        if df[col].dtypes in [\"float64\", \"float32\"]:\n",
    "            \n",
    "            cmin = df[col].min()\n",
    "            cmax = df[col].max()\n",
    "            \n",
    "            if cmin > np.finfo(np.float16).min and cmax < np.finfo(np.float16).max:\n",
    "                df[col] = df[col].astype(np.float16)\n",
    "            \n",
    "            elif cmin > np.finfo(np.float32).min and cmax < np.finfo(np.float32).max:\n",
    "                df[col] = df[col].astype(np.float32)\n",
    "    \n",
    "    print(\"\")\n",
    "    print(\"___MEMORY USAGE AFTER COMPLETION:___\")\n",
    "    mem_usg = df.memory_usage().sum() / 1024**2 \n",
    "    print(\"Memory usage is: \",mem_usg,\" MB\")\n",
    "    print(\"This is \",100*mem_usg/start_mem_usg,\"% of the initial size\")\n",
    "    \n",
    "    return df"
   ]
  },
  {
   "cell_type": "code",
   "execution_count": 6,
   "metadata": {},
   "outputs": [
    {
     "name": "stdout",
     "output_type": "stream",
     "text": [
      "Memory usage of properties dataframe is : 4315.823656082153  MB\n",
      "\n",
      "___MEMORY USAGE AFTER COMPLETION:___\n",
      "Memory usage is:  1163.8177070617676  MB\n",
      "This is  26.96629426509668 % of the initial size\n"
     ]
    }
   ],
   "source": [
    "df = reduce_memory(df)"
   ]
  },
  {
   "cell_type": "code",
   "execution_count": 7,
   "metadata": {},
   "outputs": [],
   "source": [
    "df['order_diff'] = df.order_number - df.last_ordered_in\n",
    "df.drop(['user_id', 'product_id'], axis = 1, inplace = True)"
   ]
  },
  {
   "cell_type": "code",
   "execution_count": 8,
   "metadata": {},
   "outputs": [
    {
     "data": {
      "text/html": [
       "<div>\n",
       "<style scoped>\n",
       "    .dataframe tbody tr th:only-of-type {\n",
       "        vertical-align: middle;\n",
       "    }\n",
       "\n",
       "    .dataframe tbody tr th {\n",
       "        vertical-align: top;\n",
       "    }\n",
       "\n",
       "    .dataframe thead th {\n",
       "        text-align: right;\n",
       "    }\n",
       "</style>\n",
       "<table border=\"1\" class=\"dataframe\">\n",
       "  <thead>\n",
       "    <tr style=\"text-align: right;\">\n",
       "      <th></th>\n",
       "      <th>total_product_orders_by_user</th>\n",
       "      <th>total_product_reorders_by_user</th>\n",
       "      <th>user_product_reorder_percentage</th>\n",
       "      <th>avg_add_to_cart_by_user</th>\n",
       "      <th>avg_days_since_last_bought</th>\n",
       "      <th>last_ordered_in</th>\n",
       "      <th>is_reorder_3</th>\n",
       "      <th>is_reorder_2</th>\n",
       "      <th>is_reorder_1</th>\n",
       "      <th>order_number</th>\n",
       "      <th>...</th>\n",
       "      <th>reorder_propotion_by_user</th>\n",
       "      <th>average_order_size</th>\n",
       "      <th>reorder_in_order</th>\n",
       "      <th>orders_3</th>\n",
       "      <th>orders_2</th>\n",
       "      <th>orders_1</th>\n",
       "      <th>reorder_3</th>\n",
       "      <th>reorder_2</th>\n",
       "      <th>reorder_1</th>\n",
       "      <th>order_diff</th>\n",
       "    </tr>\n",
       "  </thead>\n",
       "  <tbody>\n",
       "    <tr>\n",
       "      <th>0</th>\n",
       "      <td>10.0</td>\n",
       "      <td>9.0</td>\n",
       "      <td>0.899902</td>\n",
       "      <td>1.400391</td>\n",
       "      <td>17.593750</td>\n",
       "      <td>10.0</td>\n",
       "      <td>1.0</td>\n",
       "      <td>1.0</td>\n",
       "      <td>1.0</td>\n",
       "      <td>11.0</td>\n",
       "      <td>...</td>\n",
       "      <td>0.694824</td>\n",
       "      <td>5.898438</td>\n",
       "      <td>0.706055</td>\n",
       "      <td>6</td>\n",
       "      <td>6</td>\n",
       "      <td>9</td>\n",
       "      <td>0.666504</td>\n",
       "      <td>1.0</td>\n",
       "      <td>0.666504</td>\n",
       "      <td>1.0</td>\n",
       "    </tr>\n",
       "    <tr>\n",
       "      <th>1</th>\n",
       "      <td>9.0</td>\n",
       "      <td>8.0</td>\n",
       "      <td>0.888672</td>\n",
       "      <td>3.333984</td>\n",
       "      <td>19.562500</td>\n",
       "      <td>10.0</td>\n",
       "      <td>1.0</td>\n",
       "      <td>1.0</td>\n",
       "      <td>1.0</td>\n",
       "      <td>11.0</td>\n",
       "      <td>...</td>\n",
       "      <td>0.694824</td>\n",
       "      <td>5.898438</td>\n",
       "      <td>0.706055</td>\n",
       "      <td>6</td>\n",
       "      <td>6</td>\n",
       "      <td>9</td>\n",
       "      <td>0.666504</td>\n",
       "      <td>1.0</td>\n",
       "      <td>0.666504</td>\n",
       "      <td>1.0</td>\n",
       "    </tr>\n",
       "    <tr>\n",
       "      <th>2</th>\n",
       "      <td>1.0</td>\n",
       "      <td>0.0</td>\n",
       "      <td>0.000000</td>\n",
       "      <td>5.000000</td>\n",
       "      <td>28.000000</td>\n",
       "      <td>5.0</td>\n",
       "      <td>0.0</td>\n",
       "      <td>0.0</td>\n",
       "      <td>0.0</td>\n",
       "      <td>11.0</td>\n",
       "      <td>...</td>\n",
       "      <td>0.694824</td>\n",
       "      <td>5.898438</td>\n",
       "      <td>0.706055</td>\n",
       "      <td>6</td>\n",
       "      <td>6</td>\n",
       "      <td>9</td>\n",
       "      <td>0.666504</td>\n",
       "      <td>1.0</td>\n",
       "      <td>0.666504</td>\n",
       "      <td>6.0</td>\n",
       "    </tr>\n",
       "    <tr>\n",
       "      <th>3</th>\n",
       "      <td>10.0</td>\n",
       "      <td>9.0</td>\n",
       "      <td>0.899902</td>\n",
       "      <td>3.300781</td>\n",
       "      <td>17.593750</td>\n",
       "      <td>10.0</td>\n",
       "      <td>1.0</td>\n",
       "      <td>1.0</td>\n",
       "      <td>1.0</td>\n",
       "      <td>11.0</td>\n",
       "      <td>...</td>\n",
       "      <td>0.694824</td>\n",
       "      <td>5.898438</td>\n",
       "      <td>0.706055</td>\n",
       "      <td>6</td>\n",
       "      <td>6</td>\n",
       "      <td>9</td>\n",
       "      <td>0.666504</td>\n",
       "      <td>1.0</td>\n",
       "      <td>0.666504</td>\n",
       "      <td>1.0</td>\n",
       "    </tr>\n",
       "    <tr>\n",
       "      <th>4</th>\n",
       "      <td>3.0</td>\n",
       "      <td>2.0</td>\n",
       "      <td>0.666504</td>\n",
       "      <td>6.332031</td>\n",
       "      <td>21.671875</td>\n",
       "      <td>10.0</td>\n",
       "      <td>1.0</td>\n",
       "      <td>0.0</td>\n",
       "      <td>0.0</td>\n",
       "      <td>11.0</td>\n",
       "      <td>...</td>\n",
       "      <td>0.694824</td>\n",
       "      <td>5.898438</td>\n",
       "      <td>0.706055</td>\n",
       "      <td>6</td>\n",
       "      <td>6</td>\n",
       "      <td>9</td>\n",
       "      <td>0.666504</td>\n",
       "      <td>1.0</td>\n",
       "      <td>0.666504</td>\n",
       "      <td>1.0</td>\n",
       "    </tr>\n",
       "  </tbody>\n",
       "</table>\n",
       "<p>5 rows × 68 columns</p>\n",
       "</div>"
      ],
      "text/plain": [
       "   total_product_orders_by_user  total_product_reorders_by_user  \\\n",
       "0                          10.0                             9.0   \n",
       "1                           9.0                             8.0   \n",
       "2                           1.0                             0.0   \n",
       "3                          10.0                             9.0   \n",
       "4                           3.0                             2.0   \n",
       "\n",
       "   user_product_reorder_percentage  avg_add_to_cart_by_user  \\\n",
       "0                         0.899902                 1.400391   \n",
       "1                         0.888672                 3.333984   \n",
       "2                         0.000000                 5.000000   \n",
       "3                         0.899902                 3.300781   \n",
       "4                         0.666504                 6.332031   \n",
       "\n",
       "   avg_days_since_last_bought  last_ordered_in  is_reorder_3  is_reorder_2  \\\n",
       "0                   17.593750             10.0           1.0           1.0   \n",
       "1                   19.562500             10.0           1.0           1.0   \n",
       "2                   28.000000              5.0           0.0           0.0   \n",
       "3                   17.593750             10.0           1.0           1.0   \n",
       "4                   21.671875             10.0           1.0           0.0   \n",
       "\n",
       "   is_reorder_1  order_number  ...  reorder_propotion_by_user  \\\n",
       "0           1.0          11.0  ...                   0.694824   \n",
       "1           1.0          11.0  ...                   0.694824   \n",
       "2           0.0          11.0  ...                   0.694824   \n",
       "3           1.0          11.0  ...                   0.694824   \n",
       "4           0.0          11.0  ...                   0.694824   \n",
       "\n",
       "   average_order_size  reorder_in_order  orders_3  orders_2  orders_1  \\\n",
       "0            5.898438          0.706055         6         6         9   \n",
       "1            5.898438          0.706055         6         6         9   \n",
       "2            5.898438          0.706055         6         6         9   \n",
       "3            5.898438          0.706055         6         6         9   \n",
       "4            5.898438          0.706055         6         6         9   \n",
       "\n",
       "   reorder_3  reorder_2  reorder_1  order_diff  \n",
       "0   0.666504        1.0   0.666504         1.0  \n",
       "1   0.666504        1.0   0.666504         1.0  \n",
       "2   0.666504        1.0   0.666504         6.0  \n",
       "3   0.666504        1.0   0.666504         1.0  \n",
       "4   0.666504        1.0   0.666504         1.0  \n",
       "\n",
       "[5 rows x 68 columns]"
      ]
     },
     "execution_count": 8,
     "metadata": {},
     "output_type": "execute_result"
    }
   ],
   "source": [
    "df.head()"
   ]
  },
  {
   "cell_type": "code",
   "execution_count": 9,
   "metadata": {},
   "outputs": [
    {
     "data": {
      "text/plain": [
       "(8474661, 68)"
      ]
     },
     "execution_count": 9,
     "metadata": {},
     "output_type": "execute_result"
    }
   ],
   "source": [
    "df.shape"
   ]
  },
  {
   "cell_type": "code",
   "execution_count": 10,
   "metadata": {},
   "outputs": [],
   "source": [
    "label = 'reordered'\n",
    "x_cols = df.columns.drop('reordered')"
   ]
  },
  {
   "cell_type": "code",
   "execution_count": 11,
   "metadata": {},
   "outputs": [],
   "source": [
    "X = df[x_cols]\n",
    "y = df[label]"
   ]
  },
  {
   "cell_type": "code",
   "execution_count": 12,
   "metadata": {},
   "outputs": [
    {
     "name": "stdout",
     "output_type": "stream",
     "text": [
      "(6355995, 67) (6355995,)\n",
      "(2118666, 67) (2118666,)\n"
     ]
    }
   ],
   "source": [
    "X_train, X_test, y_train, y_test = train_test_split(X, y, stratify = y, test_size = 0.25)\n",
    "\n",
    "print(X_train.shape, y_train.shape)\n",
    "print(X_test.shape, y_test.shape)"
   ]
  },
  {
   "cell_type": "code",
   "execution_count": 13,
   "metadata": {},
   "outputs": [
    {
     "data": {
      "text/plain": [
       "reordered\n",
       "0.0    5734377\n",
       "1.0     621618\n",
       "Name: count, dtype: int64"
      ]
     },
     "execution_count": 13,
     "metadata": {},
     "output_type": "execute_result"
    }
   ],
   "source": [
    "y_train.value_counts()"
   ]
  },
  {
   "cell_type": "code",
   "execution_count": 14,
   "metadata": {},
   "outputs": [
    {
     "data": {
      "text/plain": [
       "10.0"
      ]
     },
     "execution_count": 14,
     "metadata": {},
     "output_type": "execute_result"
    }
   ],
   "source": [
    "np.ceil(y_train.value_counts()[0]/y_train.value_counts()[1])"
   ]
  },
  {
   "cell_type": "code",
   "execution_count": 15,
   "metadata": {},
   "outputs": [
    {
     "data": {
      "text/plain": [
       "reordered\n",
       "0.0    1911460\n",
       "1.0     207206\n",
       "Name: count, dtype: int64"
      ]
     },
     "execution_count": 15,
     "metadata": {},
     "output_type": "execute_result"
    }
   ],
   "source": [
    "y_test.value_counts()"
   ]
  },
  {
   "cell_type": "code",
   "execution_count": 16,
   "metadata": {},
   "outputs": [
    {
     "data": {
      "text/plain": [
       "0"
      ]
     },
     "execution_count": 16,
     "metadata": {},
     "output_type": "execute_result"
    }
   ],
   "source": [
    "# freeing memory\n",
    "del df, X, y\n",
    "gc.collect()"
   ]
  },
  {
   "cell_type": "markdown",
   "metadata": {},
   "source": [
    "### Neural Network model"
   ]
  },
  {
   "cell_type": "code",
   "execution_count": 17,
   "metadata": {},
   "outputs": [],
   "source": [
    "# !pip install keras"
   ]
  },
  {
   "cell_type": "code",
   "execution_count": 18,
   "metadata": {},
   "outputs": [],
   "source": [
    "import keras\n",
    "from keras.models import Sequential\n",
    "from keras.layers import Dense, Dropout\n",
    "from keras.regularizers import l2\n",
    "from keras.callbacks import History\n",
    "from keras import backend as K\n",
    "from sklearn.preprocessing import MinMaxScaler"
   ]
  },
  {
   "cell_type": "code",
   "execution_count": 19,
   "metadata": {},
   "outputs": [],
   "source": [
    "sc = MinMaxScaler()\n",
    "X_train_sc = sc.fit_transform(X_train)\n",
    "X_test_sc = sc.transform(X_test)"
   ]
  },
  {
   "cell_type": "code",
   "execution_count": 20,
   "metadata": {},
   "outputs": [
    {
     "data": {
      "text/plain": [
       "67"
      ]
     },
     "execution_count": 20,
     "metadata": {},
     "output_type": "execute_result"
    }
   ],
   "source": [
    "input_dim =  X_train_sc.shape[1]\n",
    "input_dim"
   ]
  },
  {
   "cell_type": "code",
   "execution_count": 21,
   "metadata": {},
   "outputs": [],
   "source": [
    "def recall_m(y_true, y_pred):\n",
    "    true_positives = K.sum(K.round(K.clip(y_true * y_pred, 0, 1)))\n",
    "    possible_positives = K.sum(K.round(K.clip(y_true, 0, 1)))\n",
    "    recall = true_positives / (possible_positives + K.epsilon())\n",
    "    return recall\n",
    "\n",
    "def precision_m(y_true, y_pred):\n",
    "    true_positives = K.sum(K.round(K.clip(y_true * y_pred, 0, 1)))\n",
    "    predicted_positives = K.sum(K.round(K.clip(y_pred, 0, 1)))\n",
    "    precision = true_positives / (predicted_positives + K.epsilon())\n",
    "    return precision\n",
    "\n",
    "def f1_m(y_true, y_pred):\n",
    "    precision = precision_m(y_true, y_pred)\n",
    "    recall = recall_m(y_true, y_pred)\n",
    "    return 2*((precision*recall)/(precision+recall+K.epsilon()))"
   ]
  },
  {
   "cell_type": "code",
   "execution_count": 22,
   "metadata": {},
   "outputs": [
    {
     "name": "stdout",
     "output_type": "stream",
     "text": [
      "Model: \"sequential\"\n",
      "_________________________________________________________________\n",
      " Layer (type)                Output Shape              Param #   \n",
      "=================================================================\n",
      " dense (Dense)               (None, 64)                4352      \n",
      "                                                                 \n",
      " dense_1 (Dense)             (None, 15)                975       \n",
      "                                                                 \n",
      " dense_2 (Dense)             (None, 4)                 64        \n",
      "                                                                 \n",
      " dense_3 (Dense)             (None, 1)                 5         \n",
      "                                                                 \n",
      "=================================================================\n",
      "Total params: 5396 (21.08 KB)\n",
      "Trainable params: 5396 (21.08 KB)\n",
      "Non-trainable params: 0 (0.00 Byte)\n",
      "_________________________________________________________________\n"
     ]
    }
   ],
   "source": [
    "history = History()\n",
    "\n",
    "classifier = Sequential()\n",
    "\n",
    "classifier.add(Dense(units = 64, activation = 'relu', input_dim = input_dim))\n",
    "classifier.add(Dense(units = 15, activation = 'relu'))\n",
    "classifier.add(Dense(units = 4, activation = 'relu'))\n",
    "classifier.add(Dense(units = 1, activation ='sigmoid'))\n",
    "\n",
    "classifier.compile(optimizer = \"adam\", loss = 'binary_crossentropy', metrics = ['accuracy', f1_m, precision_m, recall_m])\n",
    "\n",
    "classifier.summary()"
   ]
  },
  {
   "cell_type": "code",
   "execution_count": 23,
   "metadata": {
    "scrolled": false
   },
   "outputs": [
    {
     "name": "stdout",
     "output_type": "stream",
     "text": [
      "Epoch 1/50\n",
      "10552/10552 [==============================] - 8s 714us/step - loss: 0.9677 - accuracy: 0.7317 - f1_m: 0.3572 - precision_m: 0.2354 - recall_m: 0.7600 - val_loss: 0.5825 - val_accuracy: 0.6875 - val_f1_m: 0.3362 - val_precision_m: 0.2124 - val_recall_m: 0.8164\n",
      "Epoch 2/50\n",
      "10552/10552 [==============================] - 7s 676us/step - loss: 0.9558 - accuracy: 0.7334 - f1_m: 0.3607 - precision_m: 0.2370 - recall_m: 0.7693 - val_loss: 0.4961 - val_accuracy: 0.7693 - val_f1_m: 0.3791 - val_precision_m: 0.2575 - val_recall_m: 0.7274\n",
      "Epoch 3/50\n",
      "10552/10552 [==============================] - 7s 681us/step - loss: 0.9529 - accuracy: 0.7361 - f1_m: 0.3629 - precision_m: 0.2388 - recall_m: 0.7692 - val_loss: 0.4994 - val_accuracy: 0.7595 - val_f1_m: 0.3737 - val_precision_m: 0.2510 - val_recall_m: 0.7409\n",
      "Epoch 4/50\n",
      "10552/10552 [==============================] - 7s 678us/step - loss: 0.9512 - accuracy: 0.7359 - f1_m: 0.3628 - precision_m: 0.2386 - recall_m: 0.7702 - val_loss: 0.5340 - val_accuracy: 0.7302 - val_f1_m: 0.3587 - val_precision_m: 0.2339 - val_recall_m: 0.7789\n",
      "Epoch 5/50\n",
      "10552/10552 [==============================] - 7s 685us/step - loss: 0.9501 - accuracy: 0.7362 - f1_m: 0.3633 - precision_m: 0.2389 - recall_m: 0.7709 - val_loss: 0.5332 - val_accuracy: 0.7342 - val_f1_m: 0.3609 - val_precision_m: 0.2361 - val_recall_m: 0.7750\n",
      "Epoch 6/50\n",
      "10552/10552 [==============================] - 7s 692us/step - loss: 0.9493 - accuracy: 0.7359 - f1_m: 0.3633 - precision_m: 0.2387 - recall_m: 0.7721 - val_loss: 0.5412 - val_accuracy: 0.7301 - val_f1_m: 0.3588 - val_precision_m: 0.2339 - val_recall_m: 0.7796\n",
      "Epoch 7/50\n",
      "10552/10552 [==============================] - 8s 738us/step - loss: 0.9484 - accuracy: 0.7365 - f1_m: 0.3638 - precision_m: 0.2392 - recall_m: 0.7722 - val_loss: 0.4894 - val_accuracy: 0.7722 - val_f1_m: 0.3821 - val_precision_m: 0.2603 - val_recall_m: 0.7272\n",
      "Epoch 8/50\n",
      "10552/10552 [==============================] - 7s 709us/step - loss: 0.9473 - accuracy: 0.7376 - f1_m: 0.3646 - precision_m: 0.2399 - recall_m: 0.7714 - val_loss: 0.5338 - val_accuracy: 0.7274 - val_f1_m: 0.3577 - val_precision_m: 0.2326 - val_recall_m: 0.7837\n",
      "Epoch 9/50\n",
      "10552/10552 [==============================] - 8s 713us/step - loss: 0.9457 - accuracy: 0.7395 - f1_m: 0.3659 - precision_m: 0.2411 - recall_m: 0.7703 - val_loss: 0.4995 - val_accuracy: 0.7579 - val_f1_m: 0.3749 - val_precision_m: 0.2509 - val_recall_m: 0.7497\n",
      "Epoch 10/50\n",
      "10552/10552 [==============================] - 8s 725us/step - loss: 0.9446 - accuracy: 0.7403 - f1_m: 0.3666 - precision_m: 0.2417 - recall_m: 0.7699 - val_loss: 0.5603 - val_accuracy: 0.7159 - val_f1_m: 0.3519 - val_precision_m: 0.2267 - val_recall_m: 0.7962\n",
      "Epoch 11/50\n",
      "10552/10552 [==============================] - 8s 727us/step - loss: 0.9438 - accuracy: 0.7410 - f1_m: 0.3672 - precision_m: 0.2422 - recall_m: 0.7701 - val_loss: 0.5051 - val_accuracy: 0.7535 - val_f1_m: 0.3726 - val_precision_m: 0.2482 - val_recall_m: 0.7557\n",
      "Epoch 12/50\n",
      "10552/10552 [==============================] - 8s 718us/step - loss: 0.9431 - accuracy: 0.7409 - f1_m: 0.3671 - precision_m: 0.2421 - recall_m: 0.7703 - val_loss: 0.5249 - val_accuracy: 0.7414 - val_f1_m: 0.3659 - val_precision_m: 0.2408 - val_recall_m: 0.7703\n",
      "Epoch 13/50\n",
      "10552/10552 [==============================] - 7s 708us/step - loss: 0.9428 - accuracy: 0.7414 - f1_m: 0.3674 - precision_m: 0.2424 - recall_m: 0.7700 - val_loss: 0.5363 - val_accuracy: 0.7251 - val_f1_m: 0.3573 - val_precision_m: 0.2318 - val_recall_m: 0.7887\n",
      "Epoch 14/50\n",
      "10552/10552 [==============================] - 8s 717us/step - loss: 0.9424 - accuracy: 0.7420 - f1_m: 0.3678 - precision_m: 0.2428 - recall_m: 0.7695 - val_loss: 0.5175 - val_accuracy: 0.7480 - val_f1_m: 0.3700 - val_precision_m: 0.2451 - val_recall_m: 0.7639\n",
      "Epoch 15/50\n",
      "10552/10552 [==============================] - 8s 723us/step - loss: 0.9421 - accuracy: 0.7421 - f1_m: 0.3678 - precision_m: 0.2428 - recall_m: 0.7692 - val_loss: 0.5545 - val_accuracy: 0.7169 - val_f1_m: 0.3530 - val_precision_m: 0.2275 - val_recall_m: 0.7972\n",
      "Epoch 16/50\n",
      "10552/10552 [==============================] - 8s 727us/step - loss: 0.9418 - accuracy: 0.7422 - f1_m: 0.3680 - precision_m: 0.2429 - recall_m: 0.7695 - val_loss: 0.5483 - val_accuracy: 0.7177 - val_f1_m: 0.3535 - val_precision_m: 0.2280 - val_recall_m: 0.7964\n",
      "Epoch 17/50\n",
      "10552/10552 [==============================] - 8s 714us/step - loss: 0.9417 - accuracy: 0.7417 - f1_m: 0.3678 - precision_m: 0.2427 - recall_m: 0.7702 - val_loss: 0.5263 - val_accuracy: 0.7427 - val_f1_m: 0.3665 - val_precision_m: 0.2416 - val_recall_m: 0.7683\n",
      "CPU times: user 2min 50s, sys: 42.7 s, total: 3min 32s\n",
      "Wall time: 2min 10s\n"
     ]
    },
    {
     "data": {
      "text/plain": [
       "<keras.src.callbacks.History at 0x405ca28d0>"
      ]
     },
     "execution_count": 23,
     "metadata": {},
     "output_type": "execute_result"
    }
   ],
   "source": [
    "%%time\n",
    "# fit the model\n",
    "classifier.fit(X_train_sc, y_train, epochs=50, batch_size=512, validation_split=0.15, verbose=1,class_weight= {0:1, 1:10},\n",
    "          callbacks = [history, keras.callbacks.EarlyStopping(monitor='val_loss',\n",
    "                                                              min_delta=0, patience=10, verbose=0, mode='auto')])"
   ]
  },
  {
   "cell_type": "code",
   "execution_count": 24,
   "metadata": {},
   "outputs": [
    {
     "name": "stdout",
     "output_type": "stream",
     "text": [
      "198625/198625 [==============================] - 56s 284us/step - loss: 0.5265 - accuracy: 0.7422 - f1_m: 0.3497 - precision_m: 0.2424 - recall_m: 0.7402\n",
      "loss:  0.5265198349952698 and Accuracy:  0.7422337532043457\n"
     ]
    }
   ],
   "source": [
    "eval_model=classifier.evaluate(X_train_sc, y_train)\n",
    "print('loss: ', eval_model[0], 'and Accuracy: ', eval_model[1])"
   ]
  },
  {
   "cell_type": "code",
   "execution_count": 25,
   "metadata": {},
   "outputs": [
    {
     "name": "stdout",
     "output_type": "stream",
     "text": [
      "dict_keys(['loss', 'accuracy', 'f1_m', 'precision_m', 'recall_m', 'val_loss', 'val_accuracy', 'val_f1_m', 'val_precision_m', 'val_recall_m'])\n"
     ]
    }
   ],
   "source": [
    "print(history.history.keys())"
   ]
  },
  {
   "cell_type": "code",
   "execution_count": 26,
   "metadata": {},
   "outputs": [
    {
     "data": {
      "text/plain": [
       "Text(0.5, 1.0, 'Loss')"
      ]
     },
     "execution_count": 26,
     "metadata": {},
     "output_type": "execute_result"
    },
    {
     "data": {
      "image/png": "[encoded data removed]",
      "text/plain": [
       "<Figure size 1000x400 with 2 Axes>"
      ]
     },
     "metadata": {},
     "output_type": "display_data"
    }
   ],
   "source": [
    "fig, ax = plt.subplots(nrows = 1, ncols = 2, figsize = (10, 4))\n",
    "\n",
    "# Plot accuracy\n",
    "ax[0].plot(history.history['accuracy'])\n",
    "ax[0].plot(history.history['val_accuracy'])\n",
    "ax[0].set_ylabel('Accuracy')\n",
    "ax[0].set_xlabel('# Epoch')\n",
    "ax[0].legend(['train', 'test'], loc='upper left')\n",
    "ax[0].set_title('Accuracy')\n",
    "\n",
    "# Plot loss\n",
    "ax[1].plot(history.history['loss'])\n",
    "ax[1].plot(history.history['val_loss'])\n",
    "ax[1].set_ylabel('Loss')\n",
    "ax[1].set_xlabel('# Epoch')\n",
    "ax[1].legend(['train', 'test'], loc='upper left')\n",
    "ax[1].set_title('Loss')"
   ]
  },
  {
   "cell_type": "code",
   "execution_count": 27,
   "metadata": {},
   "outputs": [
    {
     "name": "stdout",
     "output_type": "stream",
     "text": [
      "_self_setattr_tracking : True\n",
      "\n",
      "_obj_reference_counts_dict : ObjectIdentityDictionary({<_ObjectIdentityWrapper wrapping True>: 3, <_ObjectIdentityWrapper wrapping <keras.src.saving.serialization_lib.Config object at 0x402b76c50>>: 1, <_ObjectIdentityWrapper wrapping <keras.src.saving.serialization_lib.Config object at 0x406b13350>>: 1, <_ObjectIdentityWrapper wrapping <keras.src.optimizers.legacy.adam.Adam object at 0x405cabc10>>: 1, <_ObjectIdentityWrapper wrapping <keras.src.engine.compile_utils.LossesContainer object at 0x406b135d0>>: 1, <_ObjectIdentityWrapper wrapping <keras.src.engine.compile_utils.MetricsContainer object at 0x40511ab90>>: 1, <_ObjectIdentityWrapper wrapping 0>: 1, <_ObjectIdentityWrapper wrapping 'binary_crossentropy'>: 1, <_ObjectIdentityWrapper wrapping <tensorflow.python.eager.polymorphic_function.polymorphic_function.Function object at 0x405ca7410>>: 2, <_ObjectIdentityWrapper wrapping <tensorflow.python.eager.polymorphic_function.polymorphic_function.Function object at 0x405c7a090>>: 1, <_ObjectIdentityWrapper wrapping <keras.src.callbacks.History object at 0x406eec6d0>>: 1})\n",
      "\n",
      "_auto_get_config : True\n",
      "\n",
      "_auto_config : <keras.src.saving.serialization_lib.Config object at 0x402b76c50>\n",
      "\n",
      "_is_model_for_instrumentation : True\n",
      "\n",
      "_instrumented_keras_api : True\n",
      "\n",
      "_instrumented_keras_layer_class : False\n",
      "\n",
      "_instrumented_keras_model_class : True\n",
      "\n",
      "_trainable : True\n",
      "\n",
      "_stateful : False\n",
      "\n",
      "built : True\n",
      "\n",
      "_input_spec : None\n",
      "\n",
      "_build_input_shape : (None, 67)\n",
      "\n",
      "_saved_model_inputs_spec : TensorSpec(shape=(None, 67), dtype=tf.float32, name='dense_input')\n",
      "\n",
      "_saved_model_arg_spec : ([TensorSpec(shape=(None, 67), dtype=tf.float32, name='dense_input')], {})\n",
      "\n",
      "_supports_masking : True\n",
      "\n",
      "_name : sequential\n",
      "\n",
      "_activity_regularizer : None\n",
      "\n",
      "_trainable_weights : []\n",
      "\n",
      "_non_trainable_weights : []\n",
      "\n",
      "_updates : []\n",
      "\n",
      "_thread_local : <_thread._local object at 0x4052753a0>\n",
      "\n",
      "_callable_losses : []\n",
      "\n",
      "_losses : []\n",
      "\n",
      "_metrics : []\n",
      "\n",
      "_metrics_lock : <unlocked _thread.lock object at 0x405c8fcc0>\n",
      "\n",
      "_dtype_policy : <Policy \"float32\">\n",
      "\n",
      "_compute_dtype_object : <dtype: 'float32'>\n",
      "\n",
      "_autocast : False\n",
      "\n",
      "_self_tracked_trackables : [<keras.src.engine.input_layer.InputLayer object at 0x405cee2d0>, <keras.src.layers.core.dense.Dense object at 0x405c78450>, <keras.src.layers.core.dense.Dense object at 0x403464610>, <keras.src.layers.core.dense.Dense object at 0x405cce050>, <keras.src.layers.core.dense.Dense object at 0x406b579d0>]\n",
      "\n",
      "_inbound_nodes_value : []\n",
      "\n",
      "_outbound_nodes_value : []\n",
      "\n",
      "_call_spec : <keras.src.utils.layer_utils.CallFunctionSpec object at 0x14c785dd0>\n",
      "\n",
      "_dynamic : False\n",
      "\n",
      "_initial_weights : None\n",
      "\n",
      "_auto_track_sub_layers : False\n",
      "\n",
      "_preserve_input_structure_in_config : False\n",
      "\n",
      "_name_scope_on_declaration : \n",
      "\n",
      "_captured_weight_regularizer : []\n",
      "\n",
      "_is_graph_network : True\n",
      "\n",
      "inputs : [<KerasTensor: shape=(None, 67) dtype=float32 (created by layer 'dense_input')>]\n",
      "\n",
      "outputs : [<KerasTensor: shape=(None, 1) dtype=float32 (created by layer 'dense_3')>]\n",
      "\n",
      "input_names : ['dense_input']\n",
      "\n",
      "output_names : ['dense_3']\n",
      "\n",
      "_compute_output_and_mask_jointly : True\n",
      "\n",
      "_distribution_strategy : None\n",
      "\n",
      "_distribute_reduction_method : None\n",
      "\n",
      "_cluster_coordinator : None\n",
      "\n",
      "predict_function : None\n",
      "\n",
      "_compiled_trainable_state : <WeakKeyDictionary at 0x406bac610>\n",
      "\n",
      "_training_state : None\n",
      "\n",
      "_self_unconditional_checkpoint_dependencies : [TrackableReference(name=optimizer, ref=<keras.src.optimizers.legacy.adam.Adam object at 0x405cabc10>), TrackableReference(name=train_tf_function, ref=<tensorflow.python.eager.polymorphic_function.polymorphic_function.Function object at 0x405ca7410>), TrackableReference(name=train_function, ref=<tensorflow.python.eager.polymorphic_function.polymorphic_function.Function object at 0x405ca7410>), TrackableReference(name=test_function, ref=<tensorflow.python.eager.polymorphic_function.polymorphic_function.Function object at 0x405c7a090>)]\n",
      "\n",
      "_self_unconditional_dependency_names : {'optimizer': <keras.src.optimizers.legacy.adam.Adam object at 0x405cabc10>, 'train_tf_function': <tensorflow.python.eager.polymorphic_function.polymorphic_function.Function object at 0x405ca7410>, 'train_function': <tensorflow.python.eager.polymorphic_function.polymorphic_function.Function object at 0x405ca7410>, 'test_function': <tensorflow.python.eager.polymorphic_function.polymorphic_function.Function object at 0x405c7a090>}\n",
      "\n",
      "_self_unconditional_deferred_dependencies : {}\n",
      "\n",
      "_self_update_uid : -1\n",
      "\n",
      "_self_name_based_restores : set()\n",
      "\n",
      "_self_saveable_object_factories : {}\n",
      "\n",
      "_checkpoint : <tensorflow.python.checkpoint.checkpoint.Checkpoint object at 0x14e611b50>\n",
      "\n",
      "_steps_per_execution : <tf.Variable 'Variable:0' shape=() dtype=int64, numpy=1>\n",
      "\n",
      "_steps_per_execution_tuner : None\n",
      "\n",
      "_autotune_steps_per_execution : False\n",
      "\n",
      "_layout_map : None\n",
      "\n",
      "_train_counter : <tf.Variable 'Variable:0' shape=() dtype=int64, numpy=179384>\n",
      "\n",
      "_test_counter : <tf.Variable 'Variable:0' shape=() dtype=int64, numpy=198625>\n",
      "\n",
      "_predict_counter : <tf.Variable 'Variable:0' shape=() dtype=int64, numpy=0>\n",
      "\n",
      "_base_model_initialized : True\n",
      "\n",
      "_inferred_input_shape : None\n",
      "\n",
      "_has_explicit_input_shape : True\n",
      "\n",
      "_input_dtype : None\n",
      "\n",
      "_layer_call_argspecs : {<keras.src.engine.input_layer.InputLayer object at 0x405cee2d0>: FullArgSpec(args=['self', 'inputs'], varargs='args', varkw='kwargs', defaults=None, kwonlyargs=[], kwonlydefaults=None, annotations={}), <keras.src.layers.core.dense.Dense object at 0x405c78450>: FullArgSpec(args=['self', 'inputs'], varargs=None, varkw=None, defaults=None, kwonlyargs=[], kwonlydefaults=None, annotations={}), <keras.src.layers.core.dense.Dense object at 0x403464610>: FullArgSpec(args=['self', 'inputs'], varargs=None, varkw=None, defaults=None, kwonlyargs=[], kwonlydefaults=None, annotations={}), <keras.src.layers.core.dense.Dense object at 0x405cce050>: FullArgSpec(args=['self', 'inputs'], varargs=None, varkw=None, defaults=None, kwonlyargs=[], kwonlydefaults=None, annotations={}), <keras.src.layers.core.dense.Dense object at 0x406b579d0>: FullArgSpec(args=['self', 'inputs'], varargs=None, varkw=None, defaults=None, kwonlyargs=[], kwonlydefaults=None, annotations={})}\n",
      "\n",
      "_created_nodes : set()\n",
      "\n",
      "_graph_initialized : True\n",
      "\n",
      "_use_legacy_deferred_behavior : False\n",
      "\n",
      "_nested_inputs : KerasTensor(type_spec=TensorSpec(shape=(None, 67), dtype=tf.float32, name='dense_input'), name='dense_input', description=\"created by layer 'dense_input'\")\n",
      "\n",
      "_nested_outputs : KerasTensor(type_spec=TensorSpec(shape=(None, 1), dtype=tf.float32, name=None), name='dense_3/Sigmoid:0', description=\"created by layer 'dense_3'\")\n",
      "\n",
      "_enable_dict_to_input_mapping : True\n",
      "\n",
      "_input_layers : [<keras.src.engine.input_layer.InputLayer object at 0x405cee2d0>]\n",
      "\n",
      "_output_layers : [<keras.src.layers.core.dense.Dense object at 0x406b579d0>]\n",
      "\n",
      "_input_coordinates : [(<keras.src.engine.input_layer.InputLayer object at 0x405cee2d0>, 0, 0)]\n",
      "\n",
      "_output_coordinates : [(<keras.src.layers.core.dense.Dense object at 0x406b579d0>, 0, 0)]\n",
      "\n",
      "_output_mask_cache : {}\n",
      "\n",
      "_output_tensor_cache : {}\n",
      "\n",
      "_output_shape_cache : {}\n",
      "\n",
      "_network_nodes : {'dense_2_ib-0', 'dense_input_ib-0', 'dense_1_ib-0', 'dense_3_ib-0', 'dense_ib-0'}\n",
      "\n",
      "_nodes_by_depth : defaultdict(<class 'list'>, {0: [<keras.src.engine.node.Node object at 0x14e610c50>], 1: [<keras.src.engine.node.Node object at 0x405c8fb90>], 2: [<keras.src.engine.node.Node object at 0x402204f50>], 3: [<keras.src.engine.node.Node object at 0x405ceea50>], 4: [<keras.src.engine.node.Node object at 0x403419850>]})\n",
      "\n",
      "_feed_input_names : ['dense_input']\n",
      "\n",
      "_feed_inputs : [<KerasTensor: shape=(None, 67) dtype=float32 (created by layer 'dense_input')>]\n",
      "\n",
      "_feed_input_shapes : [(None, 67)]\n",
      "\n",
      "_tensor_usage_count : Counter({'17277311440': 1, '17199735248': 1, '17277019216': 1, '17234805648': 1, '17277007888': 1})\n",
      "\n",
      "_compile_config : <keras.src.saving.serialization_lib.Config object at 0x406b13350>\n",
      "\n",
      "_run_eagerly : None\n",
      "\n",
      "optimizer : <keras.src.optimizers.legacy.adam.Adam object at 0x405cabc10>\n",
      "\n",
      "compiled_loss : <keras.src.engine.compile_utils.LossesContainer object at 0x406b135d0>\n",
      "\n",
      "compiled_metrics : <keras.src.engine.compile_utils.MetricsContainer object at 0x40511ab90>\n",
      "\n",
      "_pss_evaluation_shards : 0\n",
      "\n",
      "_is_compiled : True\n",
      "\n",
      "loss : binary_crossentropy\n",
      "\n",
      "_jit_compile : None\n",
      "\n",
      "train_tf_function : <tensorflow.python.eager.polymorphic_function.polymorphic_function.Function object at 0x405ca7410>\n",
      "\n",
      "train_function : <tensorflow.python.eager.polymorphic_function.polymorphic_function.Function object at 0x405ca7410>\n",
      "\n",
      "stop_training : True\n",
      "\n",
      "history : <keras.src.callbacks.History object at 0x406eec6d0>\n",
      "\n",
      "test_function : <tensorflow.python.eager.polymorphic_function.polymorphic_function.Function object at 0x405c7a090>\n",
      "\n"
     ]
    }
   ],
   "source": [
    "for key, value in classifier.__dict__.items():\n",
    "    print(key, \":\", value)\n",
    "    print()"
   ]
  },
  {
   "cell_type": "code",
   "execution_count": 28,
   "metadata": {},
   "outputs": [
    {
     "name": "stdout",
     "output_type": "stream",
     "text": [
      "66209/66209 [==============================] - 15s 219us/step\n",
      "66209/66209 [==============================] - 14s 215us/step\n"
     ]
    },
    {
     "name": "stderr",
     "output_type": "stream",
     "text": [
      "/Users/aadityakasbekar/anaconda3/lib/python3.11/site-packages/sklearn/metrics/_classification.py:1344: UndefinedMetricWarning: Precision and F-score are ill-defined and being set to 0.0 in labels with no predicted samples. Use `zero_division` parameter to control this behavior.\n",
      "  _warn_prf(average, modifier, msg_start, len(result))\n",
      "/Users/aadityakasbekar/anaconda3/lib/python3.11/site-packages/sklearn/metrics/_classification.py:1344: UndefinedMetricWarning: Precision and F-score are ill-defined and being set to 0.0 in labels with no predicted samples. Use `zero_division` parameter to control this behavior.\n",
      "  _warn_prf(average, modifier, msg_start, len(result))\n",
      "/Users/aadityakasbekar/anaconda3/lib/python3.11/site-packages/sklearn/metrics/_classification.py:1344: UndefinedMetricWarning: Precision and F-score are ill-defined and being set to 0.0 in labels with no predicted samples. Use `zero_division` parameter to control this behavior.\n",
      "  _warn_prf(average, modifier, msg_start, len(result))\n"
     ]
    },
    {
     "name": "stdout",
     "output_type": "stream",
     "text": [
      "\n",
      " Classification report : \n",
      "               precision    recall  f1-score   support\n",
      "\n",
      "         0.0       0.90      1.00      0.95   1911460\n",
      "         1.0       0.00      0.00      0.00    207206\n",
      "\n",
      "    accuracy                           0.90   2118666\n",
      "   macro avg       0.45      0.50      0.47   2118666\n",
      "weighted avg       0.81      0.90      0.86   2118666\n",
      "\n",
      "Accuracy   Score :  0.902199780427873\n",
      "F1 Score:  0.0\n",
      "Area under curve :  0.8332668153617164 \n",
      "\n"
     ]
    },
    {
     "data": {
      "image/png": "[encoded data removed]",
      "text/plain": [
       "<Figure size 1200x1200 with 3 Axes>"
      ]
     },
     "metadata": {},
     "output_type": "display_data"
    }
   ],
   "source": [
    "probabilities = classifier.predict(X_test_sc)\n",
    "# predictions = classifier.predict_classes(X_test_sc)\n",
    "predictions = np.argmax(classifier.predict(X_test_sc), axis=-1)\n",
    "\n",
    "print (\"\\n Classification report : \\n\",classification_report(y_test, predictions))\n",
    "print (\"Accuracy   Score : \",accuracy_score(y_test, predictions))\n",
    "\n",
    "#confusion matrix\n",
    "conf_matrix = confusion_matrix(y_test,predictions)\n",
    "plt.figure(figsize=(12,12))\n",
    "plt.subplot(221)\n",
    "sns.heatmap(conf_matrix, fmt = \"d\",annot=True, cmap='Blues')\n",
    "b, t = plt.ylim()\n",
    "plt.ylim(b + 0.5, t - 0.5)\n",
    "plt.title('Confuion Matrix')\n",
    "plt.ylabel('True Values')\n",
    "plt.xlabel('Predicted Values')\n",
    "\n",
    "#f1-score\n",
    "f1 = f1_score(y_test, predictions)\n",
    "print(\"F1 Score: \", f1)\n",
    "\n",
    "#roc_auc_score\n",
    "model_roc_auc = roc_auc_score(y_test,probabilities) \n",
    "print (\"Area under curve : \",model_roc_auc,\"\\n\")\n",
    "fpr,tpr,thresholds = roc_curve(y_test,probabilities)\n",
    "gmeans = np.sqrt(tpr * (1-fpr))\n",
    "ix = np.argmax(gmeans)\n",
    "threshold = np.round(thresholds[ix],3)\n",
    "\n",
    "plt.subplot(222)\n",
    "plt.plot(fpr, tpr, color='darkorange', lw=1, label = \"Auc : %.3f\" %model_roc_auc)\n",
    "plt.plot([0, 1], [0, 1], color='navy', lw=2, linestyle='--')\n",
    "plt.scatter(fpr[ix], tpr[ix], marker='o', color='black', label='Best Threshold:' + str(threshold))\n",
    "plt.xlim([0.0, 1.0])\n",
    "plt.ylim([0.0, 1.05])\n",
    "plt.xlabel('False Positive Rate')\n",
    "plt.ylabel('True Positive Rate')\n",
    "plt.title('Receiver operating characteristic')\n",
    "plt.legend(loc=\"lower right\")\n",
    "\n",
    "plt.show()"
   ]
  }
 ],
 "metadata": {
  "kernelspec": {
   "display_name": "Python 3",
   "language": "python",
   "name": "python3"
  },
  "language_info": {
   "codemirror_mode": {
    "name": "ipython",
    "version": 3
   },
   "file_extension": ".py",
   "mimetype": "text/x-python",
   "name": "python",
   "nbconvert_exporter": "python",
   "pygments_lexer": "ipython3",
   "version": "3.11.5"
  }
 },
 "nbformat": 4,
 "nbformat_minor": 2
}
